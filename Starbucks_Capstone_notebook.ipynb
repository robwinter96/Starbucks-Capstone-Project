{
 "cells": [
  {
   "cell_type": "markdown",
   "metadata": {},
   "source": [
    "# Starbucks Capstone Challenge\n",
    "\n",
    "## Project Definition\n",
    "\n",
    "### Project Overview\n",
    "\n",
    "In today's highly competitive market, businesses are constantly looking for ways to improve their marketing strategies and increase their revenue.\n",
    "\n",
    "One way to do this is by using data science techniques to predict customer behavior and tailor marketing campaigns accordingly.\n",
    "In this report, I present a study that aimed to predict whether users of the Starbucks app will view offers if they are sent to them. The study employed a powerful machine learning techniques known as a Random Forest Classifier, Logistic Regression and K-Nearest Neighbors to make these predictions.\n",
    "\n",
    "The data set in the data/ directory contains simulated data that mimics customer behavior on the Starbucks rewards mobile app. Once every few days, Starbucks sends out an offer to users of the mobile app. An offer can be merely an advertisement for a drink or an actual offer such as a discount or BOGO (buy one get one free).\n",
    "\n",
    "### Problem Statement\n",
    "\n",
    "In an ideal world, every offer that Starbucks sends out to it's users would be viewed and then completed. \n",
    "\n",
    "In reality, these offers are sent out to a large number of users who never actually view them. These same users frequently complete the offer without even knowing they have done so. \n",
    "\n",
    "Providing these discount to these unaware users results in a loss of revenue for Starbucks.\n",
    "What I will do is show how I have created a model that will predict whether or not a user will view the selected offer based on their demographic information as well as the offer information itself. \n",
    "\n",
    "The model itself will be a binary classification estimator. I initially chose Random Forrest Classifier, Logistic Regression and K-Nearest Neighbors as classifiers to try out. They will simply be trying to predict whether an offer will be viewed (1) or not viewed (0) by the user.\n",
    "\n",
    "By utilizing a model like this, Starbucks can reduce the number of generous discounts being handed out to all users and therefore limit this loss of revenue.\n",
    "\n",
    "### Metrics\n",
    "\n",
    "The primary metric that will steer this project will be the recall score. \n",
    "\n",
    "The reason I have chosen this metric is because we have a strong desire to reduce/minimise the the number of False Negatives we classify (*we thought the user would view the offer, but they actually didn't = Bad*)"
   ]
  },
  {
   "cell_type": "markdown",
   "metadata": {},
   "source": [
    "### Data Sets\n",
    "\n",
    "The data is contained in three files:\n",
    "\n",
    "* portfolio.json - containing offer ids and meta data about each offer (duration, type, etc.)\n",
    "* profile.json - demographic data for each customer\n",
    "* transcript.json - records for transactions, offers received, offers viewed, and offers completed\n",
    "\n",
    "Here is the schema and explanation of each variable in the files:\n",
    "\n",
    "**portfolio.json**\n",
    "* id (string) - offer id\n",
    "* offer_type (string) - type of offer ie BOGO, discount, informational\n",
    "* difficulty (int) - minimum required spend to complete an offer\n",
    "* reward (int) - reward given for completing an offer\n",
    "* duration (int) - time for offer to be open, in days\n",
    "* channels (list of strings)\n",
    "\n",
    "**profile.json**\n",
    "* age (int) - age of the customer \n",
    "* became_member_on (int) - date when customer created an app account\n",
    "* gender (str) - gender of the customer (note some entries contain 'O' for other rather than M or F)\n",
    "* id (str) - customer id\n",
    "* income (float) - customer's income\n",
    "\n",
    "**transcript.json**\n",
    "* event (str) - record description (ie transaction, offer received, offer viewed, etc.)\n",
    "* person (str) - customer id\n",
    "* time (int) - time in hours since start of test. The data begins at time t=0\n",
    "* value - (dict of strings) - either an offer id or transaction amount depending on the record"
   ]
  },
  {
   "cell_type": "markdown",
   "metadata": {},
   "source": [
    "## Analyses"
   ]
  },
  {
   "cell_type": "markdown",
   "metadata": {},
   "source": [
    "## Get Raw Data"
   ]
  },
  {
   "cell_type": "code",
   "execution_count": 1,
   "metadata": {},
   "outputs": [],
   "source": [
    "# import libraries that are likely to be used\n",
    "import pandas as pd\n",
    "import numpy as np\n",
    "import math\n",
    "import json\n",
    "import matplotlib.pyplot as plt\n",
    "import seaborn as sns\n",
    "\n",
    "# read in the json files\n",
    "portfolio = pd.read_json('data/portfolio.json', orient='records', lines=True)\n",
    "profile = pd.read_json('data/profile.json', orient='records', lines=True)\n",
    "transcript = pd.read_json('data/transcript.json', orient='records', lines=True)"
   ]
  },
  {
   "cell_type": "markdown",
   "metadata": {},
   "source": [
    "## Data Exploration\n",
    "\n",
    "The first step in the analysis I conducted was to clean the data that I had at hand for the users and offers of the Starbucks app. Below are the heads and subsequent exploration of the 3 respective datasets I inherited; portfolio, profile and transcript."
   ]
  },
  {
   "cell_type": "markdown",
   "metadata": {},
   "source": [
    "### Portfolio data set "
   ]
  },
  {
   "cell_type": "code",
   "execution_count": 37,
   "metadata": {},
   "outputs": [
    {
     "data": {
      "text/html": [
       "<div>\n",
       "<style scoped>\n",
       "    .dataframe tbody tr th:only-of-type {\n",
       "        vertical-align: middle;\n",
       "    }\n",
       "\n",
       "    .dataframe tbody tr th {\n",
       "        vertical-align: top;\n",
       "    }\n",
       "\n",
       "    .dataframe thead th {\n",
       "        text-align: right;\n",
       "    }\n",
       "</style>\n",
       "<table border=\"1\" class=\"dataframe\">\n",
       "  <thead>\n",
       "    <tr style=\"text-align: right;\">\n",
       "      <th></th>\n",
       "      <th>reward</th>\n",
       "      <th>channels</th>\n",
       "      <th>difficulty</th>\n",
       "      <th>duration</th>\n",
       "      <th>offer_type</th>\n",
       "      <th>id</th>\n",
       "    </tr>\n",
       "  </thead>\n",
       "  <tbody>\n",
       "    <tr>\n",
       "      <th>0</th>\n",
       "      <td>10</td>\n",
       "      <td>[email, mobile, social]</td>\n",
       "      <td>10</td>\n",
       "      <td>7</td>\n",
       "      <td>bogo</td>\n",
       "      <td>ae264e3637204a6fb9bb56bc8210ddfd</td>\n",
       "    </tr>\n",
       "    <tr>\n",
       "      <th>1</th>\n",
       "      <td>10</td>\n",
       "      <td>[web, email, mobile, social]</td>\n",
       "      <td>10</td>\n",
       "      <td>5</td>\n",
       "      <td>bogo</td>\n",
       "      <td>4d5c57ea9a6940dd891ad53e9dbe8da0</td>\n",
       "    </tr>\n",
       "    <tr>\n",
       "      <th>2</th>\n",
       "      <td>0</td>\n",
       "      <td>[web, email, mobile]</td>\n",
       "      <td>0</td>\n",
       "      <td>4</td>\n",
       "      <td>informational</td>\n",
       "      <td>3f207df678b143eea3cee63160fa8bed</td>\n",
       "    </tr>\n",
       "    <tr>\n",
       "      <th>3</th>\n",
       "      <td>5</td>\n",
       "      <td>[web, email, mobile]</td>\n",
       "      <td>5</td>\n",
       "      <td>7</td>\n",
       "      <td>bogo</td>\n",
       "      <td>9b98b8c7a33c4b65b9aebfe6a799e6d9</td>\n",
       "    </tr>\n",
       "    <tr>\n",
       "      <th>4</th>\n",
       "      <td>5</td>\n",
       "      <td>[web, email]</td>\n",
       "      <td>20</td>\n",
       "      <td>10</td>\n",
       "      <td>discount</td>\n",
       "      <td>0b1e1539f2cc45b7b9fa7c272da2e1d7</td>\n",
       "    </tr>\n",
       "    <tr>\n",
       "      <th>5</th>\n",
       "      <td>3</td>\n",
       "      <td>[web, email, mobile, social]</td>\n",
       "      <td>7</td>\n",
       "      <td>7</td>\n",
       "      <td>discount</td>\n",
       "      <td>2298d6c36e964ae4a3e7e9706d1fb8c2</td>\n",
       "    </tr>\n",
       "    <tr>\n",
       "      <th>6</th>\n",
       "      <td>2</td>\n",
       "      <td>[web, email, mobile, social]</td>\n",
       "      <td>10</td>\n",
       "      <td>10</td>\n",
       "      <td>discount</td>\n",
       "      <td>fafdcd668e3743c1bb461111dcafc2a4</td>\n",
       "    </tr>\n",
       "    <tr>\n",
       "      <th>7</th>\n",
       "      <td>0</td>\n",
       "      <td>[email, mobile, social]</td>\n",
       "      <td>0</td>\n",
       "      <td>3</td>\n",
       "      <td>informational</td>\n",
       "      <td>5a8bc65990b245e5a138643cd4eb9837</td>\n",
       "    </tr>\n",
       "    <tr>\n",
       "      <th>8</th>\n",
       "      <td>5</td>\n",
       "      <td>[web, email, mobile, social]</td>\n",
       "      <td>5</td>\n",
       "      <td>5</td>\n",
       "      <td>bogo</td>\n",
       "      <td>f19421c1d4aa40978ebb69ca19b0e20d</td>\n",
       "    </tr>\n",
       "    <tr>\n",
       "      <th>9</th>\n",
       "      <td>2</td>\n",
       "      <td>[web, email, mobile]</td>\n",
       "      <td>10</td>\n",
       "      <td>7</td>\n",
       "      <td>discount</td>\n",
       "      <td>2906b810c7d4411798c6938adc9daaa5</td>\n",
       "    </tr>\n",
       "  </tbody>\n",
       "</table>\n",
       "</div>"
      ],
      "text/plain": [
       "   reward                      channels  difficulty  duration     offer_type  \\\n",
       "0      10       [email, mobile, social]          10         7           bogo   \n",
       "1      10  [web, email, mobile, social]          10         5           bogo   \n",
       "2       0          [web, email, mobile]           0         4  informational   \n",
       "3       5          [web, email, mobile]           5         7           bogo   \n",
       "4       5                  [web, email]          20        10       discount   \n",
       "5       3  [web, email, mobile, social]           7         7       discount   \n",
       "6       2  [web, email, mobile, social]          10        10       discount   \n",
       "7       0       [email, mobile, social]           0         3  informational   \n",
       "8       5  [web, email, mobile, social]           5         5           bogo   \n",
       "9       2          [web, email, mobile]          10         7       discount   \n",
       "\n",
       "                                 id  \n",
       "0  ae264e3637204a6fb9bb56bc8210ddfd  \n",
       "1  4d5c57ea9a6940dd891ad53e9dbe8da0  \n",
       "2  3f207df678b143eea3cee63160fa8bed  \n",
       "3  9b98b8c7a33c4b65b9aebfe6a799e6d9  \n",
       "4  0b1e1539f2cc45b7b9fa7c272da2e1d7  \n",
       "5  2298d6c36e964ae4a3e7e9706d1fb8c2  \n",
       "6  fafdcd668e3743c1bb461111dcafc2a4  \n",
       "7  5a8bc65990b245e5a138643cd4eb9837  \n",
       "8  f19421c1d4aa40978ebb69ca19b0e20d  \n",
       "9  2906b810c7d4411798c6938adc9daaa5  "
      ]
     },
     "execution_count": 37,
     "metadata": {},
     "output_type": "execute_result"
    }
   ],
   "source": [
    "# check the portfolio dataframe\n",
    "portfolio"
   ]
  },
  {
   "cell_type": "code",
   "execution_count": 39,
   "metadata": {},
   "outputs": [
    {
     "data": {
      "text/html": [
       "<div>\n",
       "<style scoped>\n",
       "    .dataframe tbody tr th:only-of-type {\n",
       "        vertical-align: middle;\n",
       "    }\n",
       "\n",
       "    .dataframe tbody tr th {\n",
       "        vertical-align: top;\n",
       "    }\n",
       "\n",
       "    .dataframe thead th {\n",
       "        text-align: right;\n",
       "    }\n",
       "</style>\n",
       "<table border=\"1\" class=\"dataframe\">\n",
       "  <thead>\n",
       "    <tr style=\"text-align: right;\">\n",
       "      <th></th>\n",
       "      <th>reward</th>\n",
       "      <th>difficulty</th>\n",
       "      <th>duration</th>\n",
       "    </tr>\n",
       "  </thead>\n",
       "  <tbody>\n",
       "    <tr>\n",
       "      <th>count</th>\n",
       "      <td>10.000000</td>\n",
       "      <td>10.000000</td>\n",
       "      <td>10.000000</td>\n",
       "    </tr>\n",
       "    <tr>\n",
       "      <th>mean</th>\n",
       "      <td>4.200000</td>\n",
       "      <td>7.700000</td>\n",
       "      <td>6.500000</td>\n",
       "    </tr>\n",
       "    <tr>\n",
       "      <th>std</th>\n",
       "      <td>3.583915</td>\n",
       "      <td>5.831905</td>\n",
       "      <td>2.321398</td>\n",
       "    </tr>\n",
       "    <tr>\n",
       "      <th>min</th>\n",
       "      <td>0.000000</td>\n",
       "      <td>0.000000</td>\n",
       "      <td>3.000000</td>\n",
       "    </tr>\n",
       "    <tr>\n",
       "      <th>25%</th>\n",
       "      <td>2.000000</td>\n",
       "      <td>5.000000</td>\n",
       "      <td>5.000000</td>\n",
       "    </tr>\n",
       "    <tr>\n",
       "      <th>50%</th>\n",
       "      <td>4.000000</td>\n",
       "      <td>8.500000</td>\n",
       "      <td>7.000000</td>\n",
       "    </tr>\n",
       "    <tr>\n",
       "      <th>75%</th>\n",
       "      <td>5.000000</td>\n",
       "      <td>10.000000</td>\n",
       "      <td>7.000000</td>\n",
       "    </tr>\n",
       "    <tr>\n",
       "      <th>max</th>\n",
       "      <td>10.000000</td>\n",
       "      <td>20.000000</td>\n",
       "      <td>10.000000</td>\n",
       "    </tr>\n",
       "  </tbody>\n",
       "</table>\n",
       "</div>"
      ],
      "text/plain": [
       "          reward  difficulty   duration\n",
       "count  10.000000   10.000000  10.000000\n",
       "mean    4.200000    7.700000   6.500000\n",
       "std     3.583915    5.831905   2.321398\n",
       "min     0.000000    0.000000   3.000000\n",
       "25%     2.000000    5.000000   5.000000\n",
       "50%     4.000000    8.500000   7.000000\n",
       "75%     5.000000   10.000000   7.000000\n",
       "max    10.000000   20.000000  10.000000"
      ]
     },
     "execution_count": 39,
     "metadata": {},
     "output_type": "execute_result"
    }
   ],
   "source": [
    "# Take a look at the numerical columns in the portfolio data set \n",
    "portfolio.describe()"
   ]
  },
  {
   "cell_type": "code",
   "execution_count": 51,
   "metadata": {},
   "outputs": [
    {
     "data": {
      "image/png": "[encoded data removed]",
      "text/plain": [
       "<Figure size 432x288 with 1 Axes>"
      ]
     },
     "metadata": {
      "needs_background": "light"
     },
     "output_type": "display_data"
    }
   ],
   "source": [
    "width = 0.2\n",
    "plt.bar(portfolio['reward'].index-width, portfolio['reward'].values, width, label='reward')\n",
    "plt.bar(portfolio['difficulty'].index, portfolio['difficulty'].values, width, label='difficulty')\n",
    "plt.bar(portfolio['duration'].index+width, portfolio['duration'].values, width, label='duration')\n",
    "plt.legend()\n",
    "plt.show()"
   ]
  },
  {
   "cell_type": "code",
   "execution_count": 36,
   "metadata": {},
   "outputs": [
    {
     "data": {
      "text/plain": [
       "[web, email, mobile, social]    4\n",
       "[web, email, mobile]            3\n",
       "[email, mobile, social]         2\n",
       "[web, email]                    1\n",
       "Name: channels, dtype: int64"
      ]
     },
     "execution_count": 36,
     "metadata": {},
     "output_type": "execute_result"
    }
   ],
   "source": [
    "# Take a look at the non-numerical columns in the portfolio data set \n",
    "portfolio.channels.value_counts()"
   ]
  },
  {
   "cell_type": "code",
   "execution_count": 40,
   "metadata": {},
   "outputs": [
    {
     "data": {
      "text/plain": [
       "bogo             4\n",
       "discount         4\n",
       "informational    2\n",
       "Name: offer_type, dtype: int64"
      ]
     },
     "execution_count": 40,
     "metadata": {},
     "output_type": "execute_result"
    }
   ],
   "source": [
    "portfolio.offer_type.value_counts()"
   ]
  },
  {
   "cell_type": "markdown",
   "metadata": {},
   "source": [
    "### Profile data set "
   ]
  },
  {
   "cell_type": "code",
   "execution_count": 52,
   "metadata": {},
   "outputs": [
    {
     "data": {
      "text/html": [
       "<div>\n",
       "<style scoped>\n",
       "    .dataframe tbody tr th:only-of-type {\n",
       "        vertical-align: middle;\n",
       "    }\n",
       "\n",
       "    .dataframe tbody tr th {\n",
       "        vertical-align: top;\n",
       "    }\n",
       "\n",
       "    .dataframe thead th {\n",
       "        text-align: right;\n",
       "    }\n",
       "</style>\n",
       "<table border=\"1\" class=\"dataframe\">\n",
       "  <thead>\n",
       "    <tr style=\"text-align: right;\">\n",
       "      <th></th>\n",
       "      <th>gender</th>\n",
       "      <th>age</th>\n",
       "      <th>id</th>\n",
       "      <th>became_member_on</th>\n",
       "      <th>income</th>\n",
       "    </tr>\n",
       "  </thead>\n",
       "  <tbody>\n",
       "    <tr>\n",
       "      <th>0</th>\n",
       "      <td>None</td>\n",
       "      <td>118</td>\n",
       "      <td>68be06ca386d4c31939f3a4f0e3dd783</td>\n",
       "      <td>2017-01-12 00:02:00</td>\n",
       "      <td>NaN</td>\n",
       "    </tr>\n",
       "    <tr>\n",
       "      <th>1</th>\n",
       "      <td>F</td>\n",
       "      <td>55</td>\n",
       "      <td>0610b486422d4921ae7d2bf64640c50b</td>\n",
       "      <td>2017-01-15 00:07:00</td>\n",
       "      <td>112000.0</td>\n",
       "    </tr>\n",
       "    <tr>\n",
       "      <th>2</th>\n",
       "      <td>None</td>\n",
       "      <td>118</td>\n",
       "      <td>38fe809add3b4fcf9315a9694bb96ff5</td>\n",
       "      <td>2018-01-12 00:07:00</td>\n",
       "      <td>NaN</td>\n",
       "    </tr>\n",
       "    <tr>\n",
       "      <th>3</th>\n",
       "      <td>F</td>\n",
       "      <td>75</td>\n",
       "      <td>78afa995795e4d85b5d9ceeca43f5fef</td>\n",
       "      <td>2017-01-09 00:05:00</td>\n",
       "      <td>100000.0</td>\n",
       "    </tr>\n",
       "    <tr>\n",
       "      <th>4</th>\n",
       "      <td>None</td>\n",
       "      <td>118</td>\n",
       "      <td>a03223e636434f42ac4c3df47e8bac43</td>\n",
       "      <td>2017-01-04 00:08:00</td>\n",
       "      <td>NaN</td>\n",
       "    </tr>\n",
       "  </tbody>\n",
       "</table>\n",
       "</div>"
      ],
      "text/plain": [
       "  gender  age                                id    became_member_on    income\n",
       "0   None  118  68be06ca386d4c31939f3a4f0e3dd783 2017-01-12 00:02:00       NaN\n",
       "1      F   55  0610b486422d4921ae7d2bf64640c50b 2017-01-15 00:07:00  112000.0\n",
       "2   None  118  38fe809add3b4fcf9315a9694bb96ff5 2018-01-12 00:07:00       NaN\n",
       "3      F   75  78afa995795e4d85b5d9ceeca43f5fef 2017-01-09 00:05:00  100000.0\n",
       "4   None  118  a03223e636434f42ac4c3df47e8bac43 2017-01-04 00:08:00       NaN"
      ]
     },
     "execution_count": 52,
     "metadata": {},
     "output_type": "execute_result"
    }
   ],
   "source": [
    "# check the profile dataframe\n",
    "profile.head()"
   ]
  },
  {
   "cell_type": "markdown",
   "metadata": {},
   "source": [
    "A large number users have ages that would put them in the top 5 oldest people ever recorded (> 117 years old ). This is an obvious error that aligns with the Null/NaN values we see in other columns.\n",
    "\n",
    "Later on I will go to remove these NaN values. In doing so it did result in a loss of around 13% of the users and their interactions from the dataset. I saw this as a reasonable initial compromise to make given the large size of the dataset and the time it would save to simply remove those users and get early feedback from this simple dataset to steer the project.\n",
    "\n",
    "If the final results came back with abnormalities, I could then think about re-instating these users and finding a way of filling in the missing data. This could be done by filling in the missing/null values with the mean values of users similar to them."
   ]
  },
  {
   "cell_type": "code",
   "execution_count": 53,
   "metadata": {},
   "outputs": [
    {
     "data": {
      "text/plain": [
       "gender              12.794118\n",
       "age                  0.000000\n",
       "id                   0.000000\n",
       "became_member_on     0.000000\n",
       "income              12.794118\n",
       "dtype: float64"
      ]
     },
     "execution_count": 53,
     "metadata": {},
     "output_type": "execute_result"
    }
   ],
   "source": [
    "# Check percentage of `NaN` data in profile columns\n",
    "(profile.isnull().sum()/profile.shape[0])*100"
   ]
  },
  {
   "cell_type": "code",
   "execution_count": 56,
   "metadata": {},
   "outputs": [
    {
     "data": {
      "image/png": "[encoded data removed]",
      "text/plain": [
       "<Figure size 432x288 with 1 Axes>"
      ]
     },
     "metadata": {
      "needs_background": "light"
     },
     "output_type": "display_data"
    }
   ],
   "source": [
    "# check distribution of age data \n",
    "profile.age.hist();"
   ]
  },
  {
   "cell_type": "markdown",
   "metadata": {},
   "source": [
    "### General observations\n",
    "\n",
    "It looks as though users that have a null value in one column (eg, gender) also have a default value of 118 for age and a null value for income. I believe this will be due to a way they have signed up to starbucks. "
   ]
  },
  {
   "cell_type": "code",
   "execution_count": 68,
   "metadata": {},
   "outputs": [
    {
     "data": {
      "image/png": "[encoded data removed]",
      "text/plain": [
       "<Figure size 432x288 with 1 Axes>"
      ]
     },
     "metadata": {
      "needs_background": "light"
     },
     "output_type": "display_data"
    }
   ],
   "source": [
    "# Check the distribution of the income data\n",
    "plt.hist(profile['income'], bins=90);"
   ]
  },
  {
   "cell_type": "code",
   "execution_count": 87,
   "metadata": {},
   "outputs": [
    {
     "data": {
      "image/png": "[encoded data removed]",
      "text/plain": [
       "<Figure size 720x504 with 1 Axes>"
      ]
     },
     "metadata": {
      "needs_background": "light"
     },
     "output_type": "display_data"
    }
   ],
   "source": [
    "# Check the quartiles for income \n",
    "perc_25 = profile_new['income'].describe()[4]\n",
    "perc_50 = profile_new['income'].describe()[5]\n",
    "perc_75 = profile_new['income'].describe()[6]\n",
    "\n",
    "# create a list of quartiles and their values (not pretty but does the job)\n",
    "perc_dist = [['1st Quartile',profile_new['income'].min()], ['2nd Quartile',perc_25], ['3rd Quartile',perc_50], ['4th Quartile',perc_75], ['Null',profile_new['income'].max()]]\n",
    "\n",
    "income_dict = {}\n",
    "for i in perc_dist:\n",
    "    ii_loc = perc_dist.index(i)+1\n",
    "    try:\n",
    "        ii = perc_dist[ii_loc]\n",
    "        income_dict[i[0]] = profile_new[(profile_new['income'] > i[1]) & (profile_new['income'] <= ii[1])]\n",
    "    except:\n",
    "        continue\n",
    "\n",
    "# plot the quartiles for the income data\n",
    "fig, ax = plt.subplots(figsize=(10,7))\n",
    "col = ['r','g', 'b','k']\n",
    "i=0\n",
    "for key,df in income_dict.items():\n",
    "    if df.income.mean()>0:\n",
    "        plt.hist(df.income, bins=15, label=key, color = col[i],  alpha = 0.7)\n",
    "        mean = df.income.mean()\n",
    "        plt.plot([mean, mean], [0, 450],'--', color = col[i], label=key+' mean')\n",
    "        i+=1\n",
    "plt.legend()\n",
    "    \n",
    "plt.show()"
   ]
  },
  {
   "cell_type": "markdown",
   "metadata": {},
   "source": [
    "### Transcript data set \n"
   ]
  },
  {
   "cell_type": "code",
   "execution_count": 88,
   "metadata": {},
   "outputs": [
    {
     "data": {
      "text/html": [
       "<div>\n",
       "<style scoped>\n",
       "    .dataframe tbody tr th:only-of-type {\n",
       "        vertical-align: middle;\n",
       "    }\n",
       "\n",
       "    .dataframe tbody tr th {\n",
       "        vertical-align: top;\n",
       "    }\n",
       "\n",
       "    .dataframe thead th {\n",
       "        text-align: right;\n",
       "    }\n",
       "</style>\n",
       "<table border=\"1\" class=\"dataframe\">\n",
       "  <thead>\n",
       "    <tr style=\"text-align: right;\">\n",
       "      <th></th>\n",
       "      <th>person</th>\n",
       "      <th>event</th>\n",
       "      <th>value</th>\n",
       "      <th>time</th>\n",
       "      <th>type</th>\n",
       "      <th>type_vals</th>\n",
       "    </tr>\n",
       "  </thead>\n",
       "  <tbody>\n",
       "    <tr>\n",
       "      <th>0</th>\n",
       "      <td>78afa995795e4d85b5d9ceeca43f5fef</td>\n",
       "      <td>offer received</td>\n",
       "      <td>{'offer id': '9b98b8c7a33c4b65b9aebfe6a799e6d9'}</td>\n",
       "      <td>0</td>\n",
       "      <td>offer_id</td>\n",
       "      <td>9b98b8c7a33c4b65b9aebfe6a799e6d9</td>\n",
       "    </tr>\n",
       "    <tr>\n",
       "      <th>1</th>\n",
       "      <td>a03223e636434f42ac4c3df47e8bac43</td>\n",
       "      <td>offer received</td>\n",
       "      <td>{'offer id': '0b1e1539f2cc45b7b9fa7c272da2e1d7'}</td>\n",
       "      <td>0</td>\n",
       "      <td>offer_id</td>\n",
       "      <td>0b1e1539f2cc45b7b9fa7c272da2e1d7</td>\n",
       "    </tr>\n",
       "    <tr>\n",
       "      <th>2</th>\n",
       "      <td>e2127556f4f64592b11af22de27a7932</td>\n",
       "      <td>offer received</td>\n",
       "      <td>{'offer id': '2906b810c7d4411798c6938adc9daaa5'}</td>\n",
       "      <td>0</td>\n",
       "      <td>offer_id</td>\n",
       "      <td>2906b810c7d4411798c6938adc9daaa5</td>\n",
       "    </tr>\n",
       "    <tr>\n",
       "      <th>3</th>\n",
       "      <td>8ec6ce2a7e7949b1bf142def7d0e0586</td>\n",
       "      <td>offer received</td>\n",
       "      <td>{'offer id': 'fafdcd668e3743c1bb461111dcafc2a4'}</td>\n",
       "      <td>0</td>\n",
       "      <td>offer_id</td>\n",
       "      <td>fafdcd668e3743c1bb461111dcafc2a4</td>\n",
       "    </tr>\n",
       "    <tr>\n",
       "      <th>4</th>\n",
       "      <td>68617ca6246f4fbc85e91a2a49552598</td>\n",
       "      <td>offer received</td>\n",
       "      <td>{'offer id': '4d5c57ea9a6940dd891ad53e9dbe8da0'}</td>\n",
       "      <td>0</td>\n",
       "      <td>offer_id</td>\n",
       "      <td>4d5c57ea9a6940dd891ad53e9dbe8da0</td>\n",
       "    </tr>\n",
       "  </tbody>\n",
       "</table>\n",
       "</div>"
      ],
      "text/plain": [
       "                             person           event  \\\n",
       "0  78afa995795e4d85b5d9ceeca43f5fef  offer received   \n",
       "1  a03223e636434f42ac4c3df47e8bac43  offer received   \n",
       "2  e2127556f4f64592b11af22de27a7932  offer received   \n",
       "3  8ec6ce2a7e7949b1bf142def7d0e0586  offer received   \n",
       "4  68617ca6246f4fbc85e91a2a49552598  offer received   \n",
       "\n",
       "                                              value  time      type  \\\n",
       "0  {'offer id': '9b98b8c7a33c4b65b9aebfe6a799e6d9'}     0  offer_id   \n",
       "1  {'offer id': '0b1e1539f2cc45b7b9fa7c272da2e1d7'}     0  offer_id   \n",
       "2  {'offer id': '2906b810c7d4411798c6938adc9daaa5'}     0  offer_id   \n",
       "3  {'offer id': 'fafdcd668e3743c1bb461111dcafc2a4'}     0  offer_id   \n",
       "4  {'offer id': '4d5c57ea9a6940dd891ad53e9dbe8da0'}     0  offer_id   \n",
       "\n",
       "                          type_vals  \n",
       "0  9b98b8c7a33c4b65b9aebfe6a799e6d9  \n",
       "1  0b1e1539f2cc45b7b9fa7c272da2e1d7  \n",
       "2  2906b810c7d4411798c6938adc9daaa5  \n",
       "3  fafdcd668e3743c1bb461111dcafc2a4  \n",
       "4  4d5c57ea9a6940dd891ad53e9dbe8da0  "
      ]
     },
     "execution_count": 88,
     "metadata": {},
     "output_type": "execute_result"
    }
   ],
   "source": [
    "transcript.head()"
   ]
  },
  {
   "cell_type": "code",
   "execution_count": 90,
   "metadata": {},
   "outputs": [
    {
     "data": {
      "image/png": "[encoded data removed]",
      "text/plain": [
       "<Figure size 432x288 with 1 Axes>"
      ]
     },
     "metadata": {
      "needs_background": "light"
     },
     "output_type": "display_data"
    }
   ],
   "source": [
    "# See the counts of the respective offer events\n",
    "plt.bar(transcript.event.value_counts().index,transcript.event.value_counts());"
   ]
  },
  {
   "cell_type": "code",
   "execution_count": 95,
   "metadata": {},
   "outputs": [
    {
     "data": {
      "image/png": "[encoded data removed]",
      "text/plain": [
       "<Figure size 432x288 with 1 Axes>"
      ]
     },
     "metadata": {
      "needs_background": "light"
     },
     "output_type": "display_data"
    }
   ],
   "source": [
    "# plot the distribution of the number of the number of interactions per user\n",
    "plt.hist(transcript.person.value_counts(), bins=50);\n",
    "plt.xlabel('Number of interactions per user');\n",
    "plt.ylabel('Frequency of given\\nnumber of interactions');\n",
    "plt.show()"
   ]
  },
  {
   "cell_type": "markdown",
   "metadata": {},
   "source": [
    "## Data Cleaning"
   ]
  },
  {
   "cell_type": "code",
   "execution_count": 96,
   "metadata": {},
   "outputs": [],
   "source": [
    "def clean_portfolio(portfolio_df):\n",
    "    ''' \n",
    "    Function to clean the portfolio of starbucks offers. It returns a new_portfolio \n",
    "    with 'channels' and 'offer_type' dummied so each variable within their original column\n",
    "    is now an explicit binary column itself.\n",
    "    \n",
    "    INPUTS\n",
    "    portfolio_df - portfolio dataframe of starbucks offers\n",
    "    \n",
    "    OUTPUTS\n",
    "    new_portfolio - clean portfolio \n",
    "    \n",
    "    '''\n",
    "    # dummy the channel column and merge to the portfolio df\n",
    "    portfolio_dechanelled = portfolio_df.reset_index().merge(pd.get_dummies(portfolio_df['channels'].apply(pd.Series).stack()).sum(level=0).reset_index(), on='index').drop(columns=['index', 'channels'])\n",
    "    new_portfolio = portfolio_dechanelled.reset_index().merge(pd.get_dummies(portfolio_dechanelled['offer_type'].reset_index()), on='index').drop(columns=['index', 'offer_type'])\n",
    "    \n",
    "    #rename the id column to explicit offer_id \n",
    "    new_portfolio=new_portfolio.rename(columns={'id':'offer_id'})\n",
    "    \n",
    "    return new_portfolio \n",
    "\n",
    "def clean_profile(df, get_dates=False):\n",
    "    '''\n",
    "    Function to clean the profile of starbucks users. Change column type for 'became_member_on',\n",
    "    drop NaN value rows and dummy genders to separate columns. Optionally can extract features from became_member_on. \n",
    "    \n",
    "    INPUTS\n",
    "    df - profile dataframe of starbucks users\n",
    "    get_dates - Boolean for whether user wants extra date feature columns\n",
    "    \n",
    "    OUTPUTS\n",
    "    new_profile - clean profile of users\n",
    "    \n",
    "    '''\n",
    "    # Turn became_member_on to a date type\n",
    "    profile['became_member_on']=pd.to_datetime(profile['became_member_on'], format='%Y%M%d')\n",
    "   \n",
    "    # drop NaN rows\n",
    "    profile_drop = profile.dropna(how='any', axis=0)\n",
    "    \n",
    "    #rows_lost = profile.shape[0]- profile_drop.shape[0]\n",
    "    if get_dates:\n",
    "        # get year, month and day columns from became_member_on column\n",
    "        profile_drop['year']=profile_drop['became_member_on'].dt.year\n",
    "        # Interesting to note there is only data for January sign ups here\n",
    "        profile_drop['month']=profile_drop['became_member_on'].dt.month\n",
    "        profile_drop['day']=profile_drop['became_member_on'].dt.day\n",
    "        profile_drop['weekday']=profile_drop['became_member_on'].dt.weekday\n",
    "    \n",
    "    # Rename column id to person (for easier merging later on)\n",
    "    new_profile = profile_drop.rename(columns={'id':'person'})\n",
    "\n",
    "    # get dummy cols for gender column\n",
    "    gender_dums = pd.get_dummies(new_profile.gender)\n",
    "\n",
    "    # merge new_profile with gender_dums to get finished new_profile\n",
    "    new_profile = new_profile.reset_index().merge(gender_dums.reset_index(),on='index').drop(columns=['index', 'gender', 'became_member_on'])\n",
    "    \n",
    "    return new_profile\n",
    "\n",
    "def get_transaction_timeline(transcript_df):\n",
    "    '''\n",
    "    Function to show timeline of transactions for each user from start of test to end of the test\n",
    "    \n",
    "    INPUTS\n",
    "    transcript_df - original transcript dataframe\n",
    "    \n",
    "    OUTPUTS\n",
    "    user_transactions_tl - Timeline of users transactions \n",
    "    \n",
    "    '''\n",
    "    # group users and then group by time. sum the output so we get total spend at each time for user\n",
    "    user_transactions_tl = transcript_df[transcript_df['offer_id']==0].groupby(by=['person', 'time']).sum()\n",
    "    \n",
    "    # drop unnecessary columns\n",
    "    user_transactions_tl= user_transactions_tl.drop(columns=transcript_df.loc[:,'offer completed':'time_offer_viewed'].columns).reset_index()\n",
    "    \n",
    "    return user_transactions_tl\n",
    "\n",
    "def clean_transcript(transcript_df):\n",
    "    '''\n",
    "    Function to clean the transcript of starbucks users and offers. \n",
    "    \n",
    "    INPUTS\n",
    "    transcript_df - original transcript dataframe\n",
    "    \n",
    "    OUTPUTS\n",
    "    offers_n_spend - clean offers and transactions df\n",
    "    \n",
    "    '''\n",
    "    \n",
    "    # separate the value column dictionaries in to new columns\n",
    "    #     'type' = transaction or offer\n",
    "    #     'type_vals' = value of that transaction or offer\n",
    "    val_list = []\n",
    "    for x in list(transcript_df['value']):\n",
    "        try:\n",
    "            val_list.append([list(x.keys())[0],list(x.values())[0]])\n",
    "        except:\n",
    "            val_list.append(None, None)\n",
    "            continue\n",
    "\n",
    "    val_type = [x[0].replace(' ', '_') for x in val_list]\n",
    "    val_vals = [x[1] for x in val_list]\n",
    "\n",
    "    transcript_df['type'] = val_type\n",
    "    transcript_df['type_vals'] = val_vals\n",
    "\n",
    "    # get dummies for event column \n",
    "    event_dums = pd.get_dummies(transcript.event)\n",
    "    # get dummies for type column\n",
    "    type_dums = pd.get_dummies(transcript.type)\n",
    "\n",
    "    # get 'status' columns for offers\n",
    "\n",
    "    # merge dummied event column to transcript \n",
    "    transcript_de_event = transcript.reset_index().merge(event_dums.reset_index(), on='index').drop(columns=['index', 'event', 'value'])\n",
    "\n",
    "    # merge above df to type_dums \n",
    "    dums_transcript = transcript_de_event.reset_index().merge(type_dums.reset_index(), on='index').drop(columns=['index', 'type'])\n",
    "\n",
    "    # get time of offer action\n",
    "    offer_cols = ['offer completed', 'offer received','offer viewed']\n",
    "\n",
    "    for col in offer_cols:\n",
    "        name_col = 'time_'+col.replace(' ', '_')\n",
    "        # create new columns for time they had actions complete\n",
    "        dums_transcript[name_col] = dums_transcript[dums_transcript[col]==1].time\n",
    "\n",
    "    dums_transcript.sort_values(by=['person', 'time'])\n",
    "    \n",
    "    # create transactions column and make it numeric \n",
    "    dums_transcript['transactions'] = pd.to_numeric(dums_transcript[dums_transcript['transaction']==1]['type_vals'])\n",
    "    # create an offer column \n",
    "    dums_transcript['offer'] = dums_transcript[dums_transcript['offer_id']==1]['type_vals']\n",
    "    \n",
    "    # remove redundant column\n",
    "    dums_transcript = dums_transcript.drop(columns='type_vals')\n",
    "    \n",
    "    # get how many times they've received a certain offer\n",
    "    offer_count_transcript = dums_transcript.sort_values(by=['person', 'offer', 'time'])\n",
    "    offer_count_transcript['received_offer_count'] = offer_count_transcript.groupby(by=['person','offer'])['offer received'].cumsum()\n",
    "\n",
    "    # get the offers df \n",
    "    offers = offer_count_transcript.groupby(['person', 'offer', 'received_offer_count']).sum().reset_index()\n",
    "    # get the transactions\n",
    "    transactions = get_transaction_timeline(dums_transcript)\n",
    "    \n",
    "    # drop un-needed columns\n",
    "    offers = offers.drop(columns=['time', 'transaction', 'amount', 'offer_id', 'transactions'])\n",
    "    \n",
    "    # rebaseline actions so they're independent of test time\n",
    "    offers['time_offer_completed'] = abs(offers['time_offer_completed']-offers['time_offer_received'])\n",
    "    offers['time_offer_viewed'] = abs(offers['time_offer_viewed']-offers['time_offer_received'])\n",
    "    offers['time_offer_received'] = abs(offers['time_offer_received']-offers['time_offer_received'])\n",
    "    \n",
    "    # get users total spend\n",
    "    user_tot_spend = transactions.groupby(['person']).sum().reset_index().drop(columns=['time'])\n",
    "    \n",
    "    # merge offers and spend together\n",
    "    offers_n_spend = offers.merge(user_tot_spend, on='person')\n",
    "    \n",
    "    return  offers_n_spend\n",
    "\n",
    "def merge_three_dfs(new_transcript, new_profile, new_portfolio):\n",
    "    '''\n",
    "    Function to merge the 3 cleaned starbucks datasets. \n",
    "    \n",
    "    INPUTS\n",
    "    new_transcript - clean transcript df\n",
    "    new_profile - clean profile df\n",
    "    new_portfolio - clean portfolio df\n",
    "    \n",
    "    OUTPUTS\n",
    "    master_df - cleaned dataset ready for analysis/prediction modelling\n",
    "    \n",
    "    '''\n",
    "    new_transcript = new_transcript.rename(columns={'offer':'offer_id'})\n",
    "    \n",
    "    master_df = new_transcript.merge(new_profile, on='person')\n",
    "    master_df = master_df.merge(new_portfolio, on='offer_id')\n",
    "    \n",
    "    master_df = master_df.drop(columns=['person', 'offer_id'])\n",
    "    return master_df"
   ]
  },
  {
   "cell_type": "code",
   "execution_count": 97,
   "metadata": {},
   "outputs": [
    {
     "data": {
      "text/html": [
       "<div>\n",
       "<style scoped>\n",
       "    .dataframe tbody tr th:only-of-type {\n",
       "        vertical-align: middle;\n",
       "    }\n",
       "\n",
       "    .dataframe tbody tr th {\n",
       "        vertical-align: top;\n",
       "    }\n",
       "\n",
       "    .dataframe thead th {\n",
       "        text-align: right;\n",
       "    }\n",
       "</style>\n",
       "<table border=\"1\" class=\"dataframe\">\n",
       "  <thead>\n",
       "    <tr style=\"text-align: right;\">\n",
       "      <th></th>\n",
       "      <th>reward</th>\n",
       "      <th>channels</th>\n",
       "      <th>difficulty</th>\n",
       "      <th>duration</th>\n",
       "      <th>offer_type</th>\n",
       "      <th>id</th>\n",
       "    </tr>\n",
       "  </thead>\n",
       "  <tbody>\n",
       "    <tr>\n",
       "      <th>0</th>\n",
       "      <td>10</td>\n",
       "      <td>[email, mobile, social]</td>\n",
       "      <td>10</td>\n",
       "      <td>7</td>\n",
       "      <td>bogo</td>\n",
       "      <td>ae264e3637204a6fb9bb56bc8210ddfd</td>\n",
       "    </tr>\n",
       "    <tr>\n",
       "      <th>1</th>\n",
       "      <td>10</td>\n",
       "      <td>[web, email, mobile, social]</td>\n",
       "      <td>10</td>\n",
       "      <td>5</td>\n",
       "      <td>bogo</td>\n",
       "      <td>4d5c57ea9a6940dd891ad53e9dbe8da0</td>\n",
       "    </tr>\n",
       "    <tr>\n",
       "      <th>2</th>\n",
       "      <td>0</td>\n",
       "      <td>[web, email, mobile]</td>\n",
       "      <td>0</td>\n",
       "      <td>4</td>\n",
       "      <td>informational</td>\n",
       "      <td>3f207df678b143eea3cee63160fa8bed</td>\n",
       "    </tr>\n",
       "    <tr>\n",
       "      <th>3</th>\n",
       "      <td>5</td>\n",
       "      <td>[web, email, mobile]</td>\n",
       "      <td>5</td>\n",
       "      <td>7</td>\n",
       "      <td>bogo</td>\n",
       "      <td>9b98b8c7a33c4b65b9aebfe6a799e6d9</td>\n",
       "    </tr>\n",
       "    <tr>\n",
       "      <th>4</th>\n",
       "      <td>5</td>\n",
       "      <td>[web, email]</td>\n",
       "      <td>20</td>\n",
       "      <td>10</td>\n",
       "      <td>discount</td>\n",
       "      <td>0b1e1539f2cc45b7b9fa7c272da2e1d7</td>\n",
       "    </tr>\n",
       "  </tbody>\n",
       "</table>\n",
       "</div>"
      ],
      "text/plain": [
       "   reward                      channels  difficulty  duration     offer_type  \\\n",
       "0      10       [email, mobile, social]          10         7           bogo   \n",
       "1      10  [web, email, mobile, social]          10         5           bogo   \n",
       "2       0          [web, email, mobile]           0         4  informational   \n",
       "3       5          [web, email, mobile]           5         7           bogo   \n",
       "4       5                  [web, email]          20        10       discount   \n",
       "\n",
       "                                 id  \n",
       "0  ae264e3637204a6fb9bb56bc8210ddfd  \n",
       "1  4d5c57ea9a6940dd891ad53e9dbe8da0  \n",
       "2  3f207df678b143eea3cee63160fa8bed  \n",
       "3  9b98b8c7a33c4b65b9aebfe6a799e6d9  \n",
       "4  0b1e1539f2cc45b7b9fa7c272da2e1d7  "
      ]
     },
     "execution_count": 97,
     "metadata": {},
     "output_type": "execute_result"
    }
   ],
   "source": [
    "# check the portfolio dataframe\n",
    "portfolio.head()"
   ]
  },
  {
   "cell_type": "code",
   "execution_count": 98,
   "metadata": {},
   "outputs": [
    {
     "data": {
      "text/html": [
       "<div>\n",
       "<style scoped>\n",
       "    .dataframe tbody tr th:only-of-type {\n",
       "        vertical-align: middle;\n",
       "    }\n",
       "\n",
       "    .dataframe tbody tr th {\n",
       "        vertical-align: top;\n",
       "    }\n",
       "\n",
       "    .dataframe thead th {\n",
       "        text-align: right;\n",
       "    }\n",
       "</style>\n",
       "<table border=\"1\" class=\"dataframe\">\n",
       "  <thead>\n",
       "    <tr style=\"text-align: right;\">\n",
       "      <th></th>\n",
       "      <th>reward</th>\n",
       "      <th>difficulty</th>\n",
       "      <th>duration</th>\n",
       "      <th>offer_id</th>\n",
       "      <th>email</th>\n",
       "      <th>mobile</th>\n",
       "      <th>social</th>\n",
       "      <th>web</th>\n",
       "      <th>offer_type_bogo</th>\n",
       "      <th>offer_type_discount</th>\n",
       "      <th>offer_type_informational</th>\n",
       "    </tr>\n",
       "  </thead>\n",
       "  <tbody>\n",
       "    <tr>\n",
       "      <th>0</th>\n",
       "      <td>10</td>\n",
       "      <td>10</td>\n",
       "      <td>7</td>\n",
       "      <td>ae264e3637204a6fb9bb56bc8210ddfd</td>\n",
       "      <td>1</td>\n",
       "      <td>1</td>\n",
       "      <td>1</td>\n",
       "      <td>0</td>\n",
       "      <td>1</td>\n",
       "      <td>0</td>\n",
       "      <td>0</td>\n",
       "    </tr>\n",
       "    <tr>\n",
       "      <th>1</th>\n",
       "      <td>10</td>\n",
       "      <td>10</td>\n",
       "      <td>5</td>\n",
       "      <td>4d5c57ea9a6940dd891ad53e9dbe8da0</td>\n",
       "      <td>1</td>\n",
       "      <td>1</td>\n",
       "      <td>1</td>\n",
       "      <td>1</td>\n",
       "      <td>1</td>\n",
       "      <td>0</td>\n",
       "      <td>0</td>\n",
       "    </tr>\n",
       "    <tr>\n",
       "      <th>2</th>\n",
       "      <td>0</td>\n",
       "      <td>0</td>\n",
       "      <td>4</td>\n",
       "      <td>3f207df678b143eea3cee63160fa8bed</td>\n",
       "      <td>1</td>\n",
       "      <td>1</td>\n",
       "      <td>0</td>\n",
       "      <td>1</td>\n",
       "      <td>0</td>\n",
       "      <td>0</td>\n",
       "      <td>1</td>\n",
       "    </tr>\n",
       "    <tr>\n",
       "      <th>3</th>\n",
       "      <td>5</td>\n",
       "      <td>5</td>\n",
       "      <td>7</td>\n",
       "      <td>9b98b8c7a33c4b65b9aebfe6a799e6d9</td>\n",
       "      <td>1</td>\n",
       "      <td>1</td>\n",
       "      <td>0</td>\n",
       "      <td>1</td>\n",
       "      <td>1</td>\n",
       "      <td>0</td>\n",
       "      <td>0</td>\n",
       "    </tr>\n",
       "    <tr>\n",
       "      <th>4</th>\n",
       "      <td>5</td>\n",
       "      <td>20</td>\n",
       "      <td>10</td>\n",
       "      <td>0b1e1539f2cc45b7b9fa7c272da2e1d7</td>\n",
       "      <td>1</td>\n",
       "      <td>0</td>\n",
       "      <td>0</td>\n",
       "      <td>1</td>\n",
       "      <td>0</td>\n",
       "      <td>1</td>\n",
       "      <td>0</td>\n",
       "    </tr>\n",
       "  </tbody>\n",
       "</table>\n",
       "</div>"
      ],
      "text/plain": [
       "   reward  difficulty  duration                          offer_id  email  \\\n",
       "0      10          10         7  ae264e3637204a6fb9bb56bc8210ddfd      1   \n",
       "1      10          10         5  4d5c57ea9a6940dd891ad53e9dbe8da0      1   \n",
       "2       0           0         4  3f207df678b143eea3cee63160fa8bed      1   \n",
       "3       5           5         7  9b98b8c7a33c4b65b9aebfe6a799e6d9      1   \n",
       "4       5          20        10  0b1e1539f2cc45b7b9fa7c272da2e1d7      1   \n",
       "\n",
       "   mobile  social  web  offer_type_bogo  offer_type_discount  \\\n",
       "0       1       1    0                1                    0   \n",
       "1       1       1    1                1                    0   \n",
       "2       1       0    1                0                    0   \n",
       "3       1       0    1                1                    0   \n",
       "4       0       0    1                0                    1   \n",
       "\n",
       "   offer_type_informational  \n",
       "0                         0  \n",
       "1                         0  \n",
       "2                         1  \n",
       "3                         0  \n",
       "4                         0  "
      ]
     },
     "execution_count": 98,
     "metadata": {},
     "output_type": "execute_result"
    }
   ],
   "source": [
    "# clean portfolio df \n",
    "new_portfolio=clean_portfolio(portfolio)\n",
    "new_portfolio.head()"
   ]
  },
  {
   "cell_type": "code",
   "execution_count": 5,
   "metadata": {},
   "outputs": [
    {
     "data": {
      "text/html": [
       "<div>\n",
       "<style scoped>\n",
       "    .dataframe tbody tr th:only-of-type {\n",
       "        vertical-align: middle;\n",
       "    }\n",
       "\n",
       "    .dataframe tbody tr th {\n",
       "        vertical-align: top;\n",
       "    }\n",
       "\n",
       "    .dataframe thead th {\n",
       "        text-align: right;\n",
       "    }\n",
       "</style>\n",
       "<table border=\"1\" class=\"dataframe\">\n",
       "  <thead>\n",
       "    <tr style=\"text-align: right;\">\n",
       "      <th></th>\n",
       "      <th>gender</th>\n",
       "      <th>age</th>\n",
       "      <th>id</th>\n",
       "      <th>became_member_on</th>\n",
       "      <th>income</th>\n",
       "    </tr>\n",
       "  </thead>\n",
       "  <tbody>\n",
       "    <tr>\n",
       "      <th>0</th>\n",
       "      <td>None</td>\n",
       "      <td>118</td>\n",
       "      <td>68be06ca386d4c31939f3a4f0e3dd783</td>\n",
       "      <td>20170212</td>\n",
       "      <td>NaN</td>\n",
       "    </tr>\n",
       "    <tr>\n",
       "      <th>1</th>\n",
       "      <td>F</td>\n",
       "      <td>55</td>\n",
       "      <td>0610b486422d4921ae7d2bf64640c50b</td>\n",
       "      <td>20170715</td>\n",
       "      <td>112000.0</td>\n",
       "    </tr>\n",
       "    <tr>\n",
       "      <th>2</th>\n",
       "      <td>None</td>\n",
       "      <td>118</td>\n",
       "      <td>38fe809add3b4fcf9315a9694bb96ff5</td>\n",
       "      <td>20180712</td>\n",
       "      <td>NaN</td>\n",
       "    </tr>\n",
       "    <tr>\n",
       "      <th>3</th>\n",
       "      <td>F</td>\n",
       "      <td>75</td>\n",
       "      <td>78afa995795e4d85b5d9ceeca43f5fef</td>\n",
       "      <td>20170509</td>\n",
       "      <td>100000.0</td>\n",
       "    </tr>\n",
       "    <tr>\n",
       "      <th>4</th>\n",
       "      <td>None</td>\n",
       "      <td>118</td>\n",
       "      <td>a03223e636434f42ac4c3df47e8bac43</td>\n",
       "      <td>20170804</td>\n",
       "      <td>NaN</td>\n",
       "    </tr>\n",
       "  </tbody>\n",
       "</table>\n",
       "</div>"
      ],
      "text/plain": [
       "  gender  age                                id  became_member_on    income\n",
       "0   None  118  68be06ca386d4c31939f3a4f0e3dd783          20170212       NaN\n",
       "1      F   55  0610b486422d4921ae7d2bf64640c50b          20170715  112000.0\n",
       "2   None  118  38fe809add3b4fcf9315a9694bb96ff5          20180712       NaN\n",
       "3      F   75  78afa995795e4d85b5d9ceeca43f5fef          20170509  100000.0\n",
       "4   None  118  a03223e636434f42ac4c3df47e8bac43          20170804       NaN"
      ]
     },
     "execution_count": 5,
     "metadata": {},
     "output_type": "execute_result"
    }
   ],
   "source": [
    "# check the profile dataframe\n",
    "profile.head()"
   ]
  },
  {
   "cell_type": "code",
   "execution_count": 99,
   "metadata": {},
   "outputs": [
    {
     "data": {
      "text/html": [
       "<div>\n",
       "<style scoped>\n",
       "    .dataframe tbody tr th:only-of-type {\n",
       "        vertical-align: middle;\n",
       "    }\n",
       "\n",
       "    .dataframe tbody tr th {\n",
       "        vertical-align: top;\n",
       "    }\n",
       "\n",
       "    .dataframe thead th {\n",
       "        text-align: right;\n",
       "    }\n",
       "</style>\n",
       "<table border=\"1\" class=\"dataframe\">\n",
       "  <thead>\n",
       "    <tr style=\"text-align: right;\">\n",
       "      <th></th>\n",
       "      <th>age</th>\n",
       "      <th>person</th>\n",
       "      <th>income</th>\n",
       "      <th>F</th>\n",
       "      <th>M</th>\n",
       "      <th>O</th>\n",
       "    </tr>\n",
       "  </thead>\n",
       "  <tbody>\n",
       "    <tr>\n",
       "      <th>0</th>\n",
       "      <td>55</td>\n",
       "      <td>0610b486422d4921ae7d2bf64640c50b</td>\n",
       "      <td>112000.0</td>\n",
       "      <td>1</td>\n",
       "      <td>0</td>\n",
       "      <td>0</td>\n",
       "    </tr>\n",
       "    <tr>\n",
       "      <th>1</th>\n",
       "      <td>75</td>\n",
       "      <td>78afa995795e4d85b5d9ceeca43f5fef</td>\n",
       "      <td>100000.0</td>\n",
       "      <td>1</td>\n",
       "      <td>0</td>\n",
       "      <td>0</td>\n",
       "    </tr>\n",
       "    <tr>\n",
       "      <th>2</th>\n",
       "      <td>68</td>\n",
       "      <td>e2127556f4f64592b11af22de27a7932</td>\n",
       "      <td>70000.0</td>\n",
       "      <td>0</td>\n",
       "      <td>1</td>\n",
       "      <td>0</td>\n",
       "    </tr>\n",
       "    <tr>\n",
       "      <th>3</th>\n",
       "      <td>65</td>\n",
       "      <td>389bc3fa690240e798340f5a15918d5c</td>\n",
       "      <td>53000.0</td>\n",
       "      <td>0</td>\n",
       "      <td>1</td>\n",
       "      <td>0</td>\n",
       "    </tr>\n",
       "    <tr>\n",
       "      <th>4</th>\n",
       "      <td>58</td>\n",
       "      <td>2eeac8d8feae4a8cad5a6af0499a211d</td>\n",
       "      <td>51000.0</td>\n",
       "      <td>0</td>\n",
       "      <td>1</td>\n",
       "      <td>0</td>\n",
       "    </tr>\n",
       "  </tbody>\n",
       "</table>\n",
       "</div>"
      ],
      "text/plain": [
       "   age                            person    income  F  M  O\n",
       "0   55  0610b486422d4921ae7d2bf64640c50b  112000.0  1  0  0\n",
       "1   75  78afa995795e4d85b5d9ceeca43f5fef  100000.0  1  0  0\n",
       "2   68  e2127556f4f64592b11af22de27a7932   70000.0  0  1  0\n",
       "3   65  389bc3fa690240e798340f5a15918d5c   53000.0  0  1  0\n",
       "4   58  2eeac8d8feae4a8cad5a6af0499a211d   51000.0  0  1  0"
      ]
     },
     "execution_count": 99,
     "metadata": {},
     "output_type": "execute_result"
    }
   ],
   "source": [
    "# clean profile df\n",
    "profile_new = clean_profile(profile)\n",
    "profile_new.head()"
   ]
  },
  {
   "cell_type": "code",
   "execution_count": 100,
   "metadata": {},
   "outputs": [
    {
     "data": {
      "text/html": [
       "<div>\n",
       "<style scoped>\n",
       "    .dataframe tbody tr th:only-of-type {\n",
       "        vertical-align: middle;\n",
       "    }\n",
       "\n",
       "    .dataframe tbody tr th {\n",
       "        vertical-align: top;\n",
       "    }\n",
       "\n",
       "    .dataframe thead th {\n",
       "        text-align: right;\n",
       "    }\n",
       "</style>\n",
       "<table border=\"1\" class=\"dataframe\">\n",
       "  <thead>\n",
       "    <tr style=\"text-align: right;\">\n",
       "      <th></th>\n",
       "      <th>person</th>\n",
       "      <th>event</th>\n",
       "      <th>value</th>\n",
       "      <th>time</th>\n",
       "      <th>type</th>\n",
       "      <th>type_vals</th>\n",
       "    </tr>\n",
       "  </thead>\n",
       "  <tbody>\n",
       "    <tr>\n",
       "      <th>0</th>\n",
       "      <td>78afa995795e4d85b5d9ceeca43f5fef</td>\n",
       "      <td>offer received</td>\n",
       "      <td>{'offer id': '9b98b8c7a33c4b65b9aebfe6a799e6d9'}</td>\n",
       "      <td>0</td>\n",
       "      <td>offer_id</td>\n",
       "      <td>9b98b8c7a33c4b65b9aebfe6a799e6d9</td>\n",
       "    </tr>\n",
       "    <tr>\n",
       "      <th>1</th>\n",
       "      <td>a03223e636434f42ac4c3df47e8bac43</td>\n",
       "      <td>offer received</td>\n",
       "      <td>{'offer id': '0b1e1539f2cc45b7b9fa7c272da2e1d7'}</td>\n",
       "      <td>0</td>\n",
       "      <td>offer_id</td>\n",
       "      <td>0b1e1539f2cc45b7b9fa7c272da2e1d7</td>\n",
       "    </tr>\n",
       "    <tr>\n",
       "      <th>2</th>\n",
       "      <td>e2127556f4f64592b11af22de27a7932</td>\n",
       "      <td>offer received</td>\n",
       "      <td>{'offer id': '2906b810c7d4411798c6938adc9daaa5'}</td>\n",
       "      <td>0</td>\n",
       "      <td>offer_id</td>\n",
       "      <td>2906b810c7d4411798c6938adc9daaa5</td>\n",
       "    </tr>\n",
       "    <tr>\n",
       "      <th>3</th>\n",
       "      <td>8ec6ce2a7e7949b1bf142def7d0e0586</td>\n",
       "      <td>offer received</td>\n",
       "      <td>{'offer id': 'fafdcd668e3743c1bb461111dcafc2a4'}</td>\n",
       "      <td>0</td>\n",
       "      <td>offer_id</td>\n",
       "      <td>fafdcd668e3743c1bb461111dcafc2a4</td>\n",
       "    </tr>\n",
       "    <tr>\n",
       "      <th>4</th>\n",
       "      <td>68617ca6246f4fbc85e91a2a49552598</td>\n",
       "      <td>offer received</td>\n",
       "      <td>{'offer id': '4d5c57ea9a6940dd891ad53e9dbe8da0'}</td>\n",
       "      <td>0</td>\n",
       "      <td>offer_id</td>\n",
       "      <td>4d5c57ea9a6940dd891ad53e9dbe8da0</td>\n",
       "    </tr>\n",
       "  </tbody>\n",
       "</table>\n",
       "</div>"
      ],
      "text/plain": [
       "                             person           event  \\\n",
       "0  78afa995795e4d85b5d9ceeca43f5fef  offer received   \n",
       "1  a03223e636434f42ac4c3df47e8bac43  offer received   \n",
       "2  e2127556f4f64592b11af22de27a7932  offer received   \n",
       "3  8ec6ce2a7e7949b1bf142def7d0e0586  offer received   \n",
       "4  68617ca6246f4fbc85e91a2a49552598  offer received   \n",
       "\n",
       "                                              value  time      type  \\\n",
       "0  {'offer id': '9b98b8c7a33c4b65b9aebfe6a799e6d9'}     0  offer_id   \n",
       "1  {'offer id': '0b1e1539f2cc45b7b9fa7c272da2e1d7'}     0  offer_id   \n",
       "2  {'offer id': '2906b810c7d4411798c6938adc9daaa5'}     0  offer_id   \n",
       "3  {'offer id': 'fafdcd668e3743c1bb461111dcafc2a4'}     0  offer_id   \n",
       "4  {'offer id': '4d5c57ea9a6940dd891ad53e9dbe8da0'}     0  offer_id   \n",
       "\n",
       "                          type_vals  \n",
       "0  9b98b8c7a33c4b65b9aebfe6a799e6d9  \n",
       "1  0b1e1539f2cc45b7b9fa7c272da2e1d7  \n",
       "2  2906b810c7d4411798c6938adc9daaa5  \n",
       "3  fafdcd668e3743c1bb461111dcafc2a4  \n",
       "4  4d5c57ea9a6940dd891ad53e9dbe8da0  "
      ]
     },
     "execution_count": 100,
     "metadata": {},
     "output_type": "execute_result"
    }
   ],
   "source": [
    "# check the transcript dataframe\n",
    "transcript.head()"
   ]
  },
  {
   "cell_type": "code",
   "execution_count": 101,
   "metadata": {},
   "outputs": [
    {
     "data": {
      "text/html": [
       "<div>\n",
       "<style scoped>\n",
       "    .dataframe tbody tr th:only-of-type {\n",
       "        vertical-align: middle;\n",
       "    }\n",
       "\n",
       "    .dataframe tbody tr th {\n",
       "        vertical-align: top;\n",
       "    }\n",
       "\n",
       "    .dataframe thead th {\n",
       "        text-align: right;\n",
       "    }\n",
       "</style>\n",
       "<table border=\"1\" class=\"dataframe\">\n",
       "  <thead>\n",
       "    <tr style=\"text-align: right;\">\n",
       "      <th></th>\n",
       "      <th>reward</th>\n",
       "      <th>difficulty</th>\n",
       "      <th>duration</th>\n",
       "      <th>offer_id</th>\n",
       "      <th>email</th>\n",
       "      <th>mobile</th>\n",
       "      <th>social</th>\n",
       "      <th>web</th>\n",
       "      <th>offer_type_bogo</th>\n",
       "      <th>offer_type_discount</th>\n",
       "      <th>offer_type_informational</th>\n",
       "    </tr>\n",
       "  </thead>\n",
       "  <tbody>\n",
       "    <tr>\n",
       "      <th>0</th>\n",
       "      <td>10</td>\n",
       "      <td>10</td>\n",
       "      <td>7</td>\n",
       "      <td>ae264e3637204a6fb9bb56bc8210ddfd</td>\n",
       "      <td>1</td>\n",
       "      <td>1</td>\n",
       "      <td>1</td>\n",
       "      <td>0</td>\n",
       "      <td>1</td>\n",
       "      <td>0</td>\n",
       "      <td>0</td>\n",
       "    </tr>\n",
       "    <tr>\n",
       "      <th>1</th>\n",
       "      <td>10</td>\n",
       "      <td>10</td>\n",
       "      <td>5</td>\n",
       "      <td>4d5c57ea9a6940dd891ad53e9dbe8da0</td>\n",
       "      <td>1</td>\n",
       "      <td>1</td>\n",
       "      <td>1</td>\n",
       "      <td>1</td>\n",
       "      <td>1</td>\n",
       "      <td>0</td>\n",
       "      <td>0</td>\n",
       "    </tr>\n",
       "    <tr>\n",
       "      <th>2</th>\n",
       "      <td>0</td>\n",
       "      <td>0</td>\n",
       "      <td>4</td>\n",
       "      <td>3f207df678b143eea3cee63160fa8bed</td>\n",
       "      <td>1</td>\n",
       "      <td>1</td>\n",
       "      <td>0</td>\n",
       "      <td>1</td>\n",
       "      <td>0</td>\n",
       "      <td>0</td>\n",
       "      <td>1</td>\n",
       "    </tr>\n",
       "    <tr>\n",
       "      <th>3</th>\n",
       "      <td>5</td>\n",
       "      <td>5</td>\n",
       "      <td>7</td>\n",
       "      <td>9b98b8c7a33c4b65b9aebfe6a799e6d9</td>\n",
       "      <td>1</td>\n",
       "      <td>1</td>\n",
       "      <td>0</td>\n",
       "      <td>1</td>\n",
       "      <td>1</td>\n",
       "      <td>0</td>\n",
       "      <td>0</td>\n",
       "    </tr>\n",
       "    <tr>\n",
       "      <th>4</th>\n",
       "      <td>5</td>\n",
       "      <td>20</td>\n",
       "      <td>10</td>\n",
       "      <td>0b1e1539f2cc45b7b9fa7c272da2e1d7</td>\n",
       "      <td>1</td>\n",
       "      <td>0</td>\n",
       "      <td>0</td>\n",
       "      <td>1</td>\n",
       "      <td>0</td>\n",
       "      <td>1</td>\n",
       "      <td>0</td>\n",
       "    </tr>\n",
       "  </tbody>\n",
       "</table>\n",
       "</div>"
      ],
      "text/plain": [
       "   reward  difficulty  duration                          offer_id  email  \\\n",
       "0      10          10         7  ae264e3637204a6fb9bb56bc8210ddfd      1   \n",
       "1      10          10         5  4d5c57ea9a6940dd891ad53e9dbe8da0      1   \n",
       "2       0           0         4  3f207df678b143eea3cee63160fa8bed      1   \n",
       "3       5           5         7  9b98b8c7a33c4b65b9aebfe6a799e6d9      1   \n",
       "4       5          20        10  0b1e1539f2cc45b7b9fa7c272da2e1d7      1   \n",
       "\n",
       "   mobile  social  web  offer_type_bogo  offer_type_discount  \\\n",
       "0       1       1    0                1                    0   \n",
       "1       1       1    1                1                    0   \n",
       "2       1       0    1                0                    0   \n",
       "3       1       0    1                1                    0   \n",
       "4       0       0    1                0                    1   \n",
       "\n",
       "   offer_type_informational  \n",
       "0                         0  \n",
       "1                         0  \n",
       "2                         1  \n",
       "3                         0  \n",
       "4                         0  "
      ]
     },
     "execution_count": 101,
     "metadata": {},
     "output_type": "execute_result"
    }
   ],
   "source": [
    "# clean transcript df\n",
    "new_transcript = clean_transcript(transcript)\n",
    "new_portfolio.head()"
   ]
  },
  {
   "cell_type": "code",
   "execution_count": 102,
   "metadata": {},
   "outputs": [],
   "source": [
    "#merge the 3 datasets we have cleaned \n",
    "master_df = merge_three_dfs(new_transcript, profile_new, new_portfolio)"
   ]
  },
  {
   "cell_type": "code",
   "execution_count": 103,
   "metadata": {},
   "outputs": [
    {
     "data": {
      "text/html": [
       "<div>\n",
       "<style scoped>\n",
       "    .dataframe tbody tr th:only-of-type {\n",
       "        vertical-align: middle;\n",
       "    }\n",
       "\n",
       "    .dataframe tbody tr th {\n",
       "        vertical-align: top;\n",
       "    }\n",
       "\n",
       "    .dataframe thead th {\n",
       "        text-align: right;\n",
       "    }\n",
       "</style>\n",
       "<table border=\"1\" class=\"dataframe\">\n",
       "  <thead>\n",
       "    <tr style=\"text-align: right;\">\n",
       "      <th></th>\n",
       "      <th>received_offer_count</th>\n",
       "      <th>offer completed</th>\n",
       "      <th>offer received</th>\n",
       "      <th>offer viewed</th>\n",
       "      <th>time_offer_completed</th>\n",
       "      <th>time_offer_received</th>\n",
       "      <th>time_offer_viewed</th>\n",
       "      <th>transactions</th>\n",
       "      <th>age</th>\n",
       "      <th>income</th>\n",
       "      <th>...</th>\n",
       "      <th>reward</th>\n",
       "      <th>difficulty</th>\n",
       "      <th>duration</th>\n",
       "      <th>email</th>\n",
       "      <th>mobile</th>\n",
       "      <th>social</th>\n",
       "      <th>web</th>\n",
       "      <th>offer_type_bogo</th>\n",
       "      <th>offer_type_discount</th>\n",
       "      <th>offer_type_informational</th>\n",
       "    </tr>\n",
       "  </thead>\n",
       "  <tbody>\n",
       "    <tr>\n",
       "      <th>0</th>\n",
       "      <td>1</td>\n",
       "      <td>1</td>\n",
       "      <td>1</td>\n",
       "      <td>0</td>\n",
       "      <td>0.0</td>\n",
       "      <td>0.0</td>\n",
       "      <td>576.0</td>\n",
       "      <td>127.60</td>\n",
       "      <td>33</td>\n",
       "      <td>72000.0</td>\n",
       "      <td>...</td>\n",
       "      <td>2</td>\n",
       "      <td>10</td>\n",
       "      <td>7</td>\n",
       "      <td>1</td>\n",
       "      <td>1</td>\n",
       "      <td>0</td>\n",
       "      <td>1</td>\n",
       "      <td>0</td>\n",
       "      <td>1</td>\n",
       "      <td>0</td>\n",
       "    </tr>\n",
       "    <tr>\n",
       "      <th>1</th>\n",
       "      <td>1</td>\n",
       "      <td>0</td>\n",
       "      <td>1</td>\n",
       "      <td>0</td>\n",
       "      <td>408.0</td>\n",
       "      <td>0.0</td>\n",
       "      <td>408.0</td>\n",
       "      <td>68.51</td>\n",
       "      <td>19</td>\n",
       "      <td>65000.0</td>\n",
       "      <td>...</td>\n",
       "      <td>2</td>\n",
       "      <td>10</td>\n",
       "      <td>7</td>\n",
       "      <td>1</td>\n",
       "      <td>1</td>\n",
       "      <td>0</td>\n",
       "      <td>1</td>\n",
       "      <td>0</td>\n",
       "      <td>1</td>\n",
       "      <td>0</td>\n",
       "    </tr>\n",
       "    <tr>\n",
       "      <th>2</th>\n",
       "      <td>2</td>\n",
       "      <td>0</td>\n",
       "      <td>1</td>\n",
       "      <td>0</td>\n",
       "      <td>576.0</td>\n",
       "      <td>0.0</td>\n",
       "      <td>576.0</td>\n",
       "      <td>68.51</td>\n",
       "      <td>19</td>\n",
       "      <td>65000.0</td>\n",
       "      <td>...</td>\n",
       "      <td>2</td>\n",
       "      <td>10</td>\n",
       "      <td>7</td>\n",
       "      <td>1</td>\n",
       "      <td>1</td>\n",
       "      <td>0</td>\n",
       "      <td>1</td>\n",
       "      <td>0</td>\n",
       "      <td>1</td>\n",
       "      <td>0</td>\n",
       "    </tr>\n",
       "    <tr>\n",
       "      <th>3</th>\n",
       "      <td>1</td>\n",
       "      <td>0</td>\n",
       "      <td>1</td>\n",
       "      <td>0</td>\n",
       "      <td>408.0</td>\n",
       "      <td>0.0</td>\n",
       "      <td>408.0</td>\n",
       "      <td>20.36</td>\n",
       "      <td>56</td>\n",
       "      <td>47000.0</td>\n",
       "      <td>...</td>\n",
       "      <td>2</td>\n",
       "      <td>10</td>\n",
       "      <td>7</td>\n",
       "      <td>1</td>\n",
       "      <td>1</td>\n",
       "      <td>0</td>\n",
       "      <td>1</td>\n",
       "      <td>0</td>\n",
       "      <td>1</td>\n",
       "      <td>0</td>\n",
       "    </tr>\n",
       "    <tr>\n",
       "      <th>4</th>\n",
       "      <td>1</td>\n",
       "      <td>1</td>\n",
       "      <td>1</td>\n",
       "      <td>1</td>\n",
       "      <td>30.0</td>\n",
       "      <td>0.0</td>\n",
       "      <td>60.0</td>\n",
       "      <td>375.12</td>\n",
       "      <td>58</td>\n",
       "      <td>119000.0</td>\n",
       "      <td>...</td>\n",
       "      <td>2</td>\n",
       "      <td>10</td>\n",
       "      <td>7</td>\n",
       "      <td>1</td>\n",
       "      <td>1</td>\n",
       "      <td>0</td>\n",
       "      <td>1</td>\n",
       "      <td>0</td>\n",
       "      <td>1</td>\n",
       "      <td>0</td>\n",
       "    </tr>\n",
       "  </tbody>\n",
       "</table>\n",
       "<p>5 rows × 23 columns</p>\n",
       "</div>"
      ],
      "text/plain": [
       "   received_offer_count  offer completed  offer received  offer viewed  \\\n",
       "0                     1                1               1             0   \n",
       "1                     1                0               1             0   \n",
       "2                     2                0               1             0   \n",
       "3                     1                0               1             0   \n",
       "4                     1                1               1             1   \n",
       "\n",
       "   time_offer_completed  time_offer_received  time_offer_viewed  transactions  \\\n",
       "0                   0.0                  0.0              576.0        127.60   \n",
       "1                 408.0                  0.0              408.0         68.51   \n",
       "2                 576.0                  0.0              576.0         68.51   \n",
       "3                 408.0                  0.0              408.0         20.36   \n",
       "4                  30.0                  0.0               60.0        375.12   \n",
       "\n",
       "   age    income  ...  reward  difficulty  duration  email  mobile  social  \\\n",
       "0   33   72000.0  ...       2          10         7      1       1       0   \n",
       "1   19   65000.0  ...       2          10         7      1       1       0   \n",
       "2   19   65000.0  ...       2          10         7      1       1       0   \n",
       "3   56   47000.0  ...       2          10         7      1       1       0   \n",
       "4   58  119000.0  ...       2          10         7      1       1       0   \n",
       "\n",
       "   web  offer_type_bogo  offer_type_discount  offer_type_informational  \n",
       "0    1                0                    1                         0  \n",
       "1    1                0                    1                         0  \n",
       "2    1                0                    1                         0  \n",
       "3    1                0                    1                         0  \n",
       "4    1                0                    1                         0  \n",
       "\n",
       "[5 rows x 23 columns]"
      ]
     },
     "execution_count": 103,
     "metadata": {},
     "output_type": "execute_result"
    }
   ],
   "source": [
    "master_df.head()"
   ]
  },
  {
   "cell_type": "code",
   "execution_count": 104,
   "metadata": {},
   "outputs": [],
   "source": [
    "# Drop potentially unrequired columns (Edit this as required by reader)\n",
    "drop_master_df = master_df.drop(columns=['received_offer_count', 'offer completed', \n",
    "                                 'offer received', 'time_offer_completed', 'time_offer_received',\n",
    "                                 'time_offer_viewed'])"
   ]
  },
  {
   "cell_type": "code",
   "execution_count": 105,
   "metadata": {},
   "outputs": [
    {
     "data": {
      "text/plain": [
       "['offer viewed',\n",
       " 'transactions',\n",
       " 'age',\n",
       " 'income',\n",
       " 'F',\n",
       " 'M',\n",
       " 'O',\n",
       " 'reward',\n",
       " 'difficulty',\n",
       " 'duration',\n",
       " 'email',\n",
       " 'mobile',\n",
       " 'social',\n",
       " 'web',\n",
       " 'offer_type_bogo',\n",
       " 'offer_type_discount',\n",
       " 'offer_type_informational']"
      ]
     },
     "execution_count": 105,
     "metadata": {},
     "output_type": "execute_result"
    }
   ],
   "source": [
    "# check the columns we have left \n",
    "list(drop_master_df.columns)"
   ]
  },
  {
   "cell_type": "code",
   "execution_count": 18,
   "metadata": {},
   "outputs": [
    {
     "name": "stdout",
     "output_type": "stream",
     "text": [
      "No View to View ratio: \t1: 2.99\n"
     ]
    }
   ],
   "source": [
    "# Show the ratio of users that DON'T view offers sent to them compared to those that DO\n",
    "print('No View to View ratio: \\t1:', round(1/(drop_master_df[drop_master_df['offer viewed']==0].count()/drop_master_df[drop_master_df['offer viewed']==1].count())['offer viewed'],2))"
   ]
  },
  {
   "cell_type": "code",
   "execution_count": 106,
   "metadata": {},
   "outputs": [
    {
     "data": {
      "image/png": "[encoded data removed]",
      "text/plain": [
       "<Figure size 432x288 with 2 Axes>"
      ]
     },
     "metadata": {
      "needs_background": "light"
     },
     "output_type": "display_data"
    }
   ],
   "source": [
    "heatmap = sns.heatmap(drop_master_df.corr());\n",
    "fig = heatmap.get_figure()\n",
    "\n",
    "# save figure if required\n",
    "# fig.savefig(\"heatmap.png\")"
   ]
  },
  {
   "cell_type": "markdown",
   "metadata": {},
   "source": [
    "By looking at the correlation between variables in the final dataset, we can see that their doesn't seem to be any large correlation between the users and the types of offers they receive. This is shown by the sea of red in the top right and lower left portion of the below graph. \n",
    "\n",
    "For that reason, I don't believe these offers are being tailored to each demographic of users.\n",
    "\n",
    "What's interesting to see here is that the 'offer viewed' column does have a varying degree of correlation across it.\n",
    "\n",
    "The image below shows the ranked correlation between the 'offer viewed' column and the other variables."
   ]
  },
  {
   "cell_type": "code",
   "execution_count": 107,
   "metadata": {},
   "outputs": [
    {
     "data": {
      "image/png": "[encoded data removed]",
      "text/plain": [
       "<Figure size 432x288 with 1 Axes>"
      ]
     },
     "metadata": {
      "needs_background": "light"
     },
     "output_type": "display_data"
    }
   ],
   "source": [
    "# check the strongest and weakest correlations to 'offer viewed' variable\n",
    "plt.bar(drop_master_df.corr()['offer viewed'].sort_values(ascending=False).index[1:-1], drop_master_df.corr()['offer viewed'].sort_values(ascending=False).values[1:-1]);\n",
    "plt.xticks(rotation=90);\n",
    "plt.ylabel('Correlation to offer viewed');"
   ]
  },
  {
   "cell_type": "markdown",
   "metadata": {},
   "source": [
    "Users tend to view offers when sent through social media which is more typically found whilst browsing through their mobile (this is pretty intuitive given phones are now seemingly just an extension of our bodies these days). \n",
    "\n",
    "They are also more responsive to the more generous types of offers such as Buy One Get One Free and high value rewards"
   ]
  },
  {
   "cell_type": "markdown",
   "metadata": {},
   "source": [
    "## Prediction Modelling "
   ]
  },
  {
   "cell_type": "markdown",
   "metadata": {},
   "source": [
    "### Methodology\n",
    "Now the data is clean and I have an idea of what the data looks like visually, I set about starting to create a model that would predict whether a user, if given a particular offer, would view the offer.\n",
    "\n",
    "As this is a classification problem, I chose the Random Forrest Classifier, Logistic Regression and K-Nearest Neighbours as classifiers to trial. I was able to fine tune the hyper-parameters using StratifiedKFold and GridSearch within a Pipeline.\n",
    "\n",
    "### Implementation\n",
    "Pipelines in data science are used to simplify the process of building and evaluating machine learning models by allowing multiple steps of the model building process to be chained together and treated as a single unit. They are particularly useful for reducing the amount of code required to implement a complex machine learning workflow, and for ensuring that all of the steps in the process are executed in the correct order.\n",
    "\n",
    "The StratifiedKFold method ensured that each fold of the data in the training set contained a representative proportion of the different class labels. This is particularly useful when dealing with imbalanced datasets, where one class may have significantly more samples than the other(s). We can see from the data for this project there are significantly more users that view the offers compared to those that do. This means that a dumb model could just guess that user will view the offer 75% of the time and it provide a reasonable accuracy.\n",
    "\n",
    "GridSearchCV is a method for fine-tuning machine learning models by searching for the best combination of hyper-parameters. It does this by training the model on different combinations of hyper-parameters from a predefined grid and evaluating the performance of each combination. The combination of hyper-parameters that results in the best performance is then chosen as the optimal set.\n",
    "\n",
    "By using StratifiedKFold in conjunction with GridSearchCV and Pipeline, we can fine-tune a machine learning model by systematically searching for the best combination of hyper-parameters that results in the best performance on a representative sample of the data.\n",
    "\n",
    "I utilized this methodology for each of the classifiers previously mentioned."
   ]
  },
  {
   "cell_type": "code",
   "execution_count": 108,
   "metadata": {},
   "outputs": [],
   "source": [
    "# pre-processing libraries\n",
    "from sklearn.model_selection import train_test_split\n",
    "from sklearn.preprocessing import StandardScaler \n",
    "\n",
    "# Pipeline libraries\n",
    "from sklearn.pipeline import Pipeline\n",
    "from sklearn.model_selection import GridSearchCV, StratifiedKFold\n",
    "from sklearn.metrics import confusion_matrix\n",
    "\n",
    "# model libraries\n",
    "from sklearn.ensemble import RandomForestClassifier\n",
    "from sklearn.linear_model import LogisticRegression\n",
    "from sklearn.neighbors import KNeighborsClassifier\n",
    "\n",
    "# post-processing libraries\n",
    "from sklearn.metrics import r2_score, mean_squared_error,  precision_recall_curve, make_scorer, recall_score, accuracy_score, precision_score, f1_score, confusion_matrix\n",
    "from sklearn import metrics\n",
    "\n",
    "\n",
    "def conf_matrix(act, pred):\n",
    "    '''\n",
    "    Display a confusion matrix to define the performance of the classification algorithm.\n",
    "    \n",
    "    INPUTS\n",
    "    act - actual values associated with the variable that we're trying to predict\n",
    "    pred - predicted values associated with the variable that we're trying to predict\n",
    "    \n",
    "    OUTPUTS\n",
    "    Dsiplays a confusion matrix to the screen and returns a dictionary with key performance indicators \n",
    "    (Recall, Precision and F1 Scores)\n",
    "    \n",
    "    '''\n",
    "    confusion_matrix = metrics.confusion_matrix(act, pred)\n",
    "    cm_display = metrics.ConfusionMatrixDisplay(confusion_matrix = confusion_matrix, display_labels = [False, True])\n",
    "    cm_display.plot()\n",
    "    plt.show()\n",
    "    \n",
    "    recall = recall_score(act, pred, average='binary')\n",
    "    precision = precision_score(act, pred, average='binary')\n",
    "    score = f1_score(act, pred, average='binary')\n",
    "    return {'Recall':recall, 'Precision':precision,'F1': score}\n",
    "\n",
    "\n",
    "def ranfor_grid_search_wrapper(refit_score='recall_score'):\n",
    "    \"\"\"\n",
    "    fits a GridSearchCV classifier using refit_score for optimization on Random Forest model\n",
    "    \n",
    "    INPUTS\n",
    "    refit_score - choose between 'precision_score', 'recall_score' and 'accuracy_score'\n",
    "    \n",
    "    OUTPUTS\n",
    "    grid_search - GridSearchCV object \n",
    "    \"\"\"\n",
    "    clf = RandomForestClassifier(n_jobs=-1) \n",
    "    \n",
    "    param_grid = {\n",
    "        'min_samples_split': [2, 3, 4], \n",
    "        'n_estimators' : [75, 100, 125],\n",
    "        'max_depth': [5, 6, 7],\n",
    "        'max_features': [20, 25]\n",
    "    }\n",
    "\n",
    "    scorers = {\n",
    "        'precision_score': make_scorer(precision_score),\n",
    "        'recall_score': make_scorer(recall_score),\n",
    "        'accuracy_score': make_scorer(accuracy_score)\n",
    "    }\n",
    "\n",
    "\n",
    "    skf = StratifiedKFold(n_splits=10)\n",
    "    grid_search = GridSearchCV(clf, param_grid, scoring=scorers, refit=refit_score,\n",
    "                           cv=skf, return_train_score=True, n_jobs=-1)\n",
    "    \n",
    "    return grid_search\n",
    "\n",
    "def logreg_grid_search_wrapper(refit_score='recall_score'):\n",
    "    \"\"\"\n",
    "    fits a GridSearchCV classifier using refit_score for optimization on Logistic Regression model\n",
    "    \n",
    "    INPUTS\n",
    "    refit_score - choose between 'precision_score', 'recall_score' and 'accuracy_score'\n",
    "    \n",
    "    OUTPUTS\n",
    "    grid_search - GridSearchCV object\n",
    "    \"\"\"\n",
    "    clf = LogisticRegression(n_jobs=-1)\n",
    "    \n",
    "    param_grid = {\n",
    "            'solver': ('lbfgs', 'liblinear'),\n",
    "            'fit_intercept': (True, False),\n",
    "            'C': [0.01, 0.1, 1, 10, 100]\n",
    "    } \n",
    "\n",
    "    scorers = {\n",
    "        'precision_score': make_scorer(precision_score),\n",
    "        'recall_score': make_scorer(recall_score),\n",
    "        'accuracy_score': make_scorer(accuracy_score)\n",
    "    }\n",
    "\n",
    "\n",
    "    skf = StratifiedKFold(n_splits=10)\n",
    "    grid_search = GridSearchCV(clf, param_grid, scoring=scorers, refit=refit_score,\n",
    "                           cv=skf, return_train_score=True, n_jobs=-1)\n",
    "    \n",
    "    return grid_search\n",
    "\n",
    "def knn_grid_search_wrapper(refit_score='recall_score'):\n",
    "    \"\"\"\n",
    "    fits a GridSearchCV classifier using refit_score for optimization on K-Nearest Neighbors model\n",
    "    \n",
    "    INPUTS\n",
    "    refit_score - choose between 'precision_score', 'recall_score' and 'accuracy_score'\n",
    "    \n",
    "    OUTPUTS\n",
    "    grid_search - GridSearchCV object\n",
    "    \"\"\"\n",
    "    clf = KNeighborsClassifier(n_jobs=-1)\n",
    "    \n",
    "    param_grid = {\n",
    "            'n_neighbors': (5, 8),\n",
    "            'weights': ('uniform', 'distance'),\n",
    "            'p': (1,2),\n",
    "            'leaf_size': (10, 15)\n",
    "    }\n",
    "\n",
    "    scorers = {\n",
    "        'precision_score': make_scorer(precision_score),\n",
    "        'recall_score': make_scorer(recall_score),\n",
    "        'accuracy_score': make_scorer(accuracy_score)\n",
    "    }\n",
    "\n",
    "\n",
    "    skf = StratifiedKFold(n_splits=10)\n",
    "    grid_search = GridSearchCV(clf, param_grid, scoring=scorers, refit=refit_score,\n",
    "                           cv=skf, return_train_score=True, n_jobs=-1)\n",
    "\n",
    "    return grid_search\n",
    "\n",
    "\n",
    "def workflow(df, mod='logreg', pred_col = 'offer viewed', drop_cols=[]):\n",
    "    \n",
    "    '''\n",
    "    Overall workflow for hyper-parameter tuning using Pipeline, StratifiedKFold and GridsearchCV\n",
    "    \n",
    "    INPUTS\n",
    "    df - Clean dataframe of all required Starbucks users/offers info\n",
    "    mod - Choose between 'logreg', 'knn', 'ranfor' to choose which classifier to use\n",
    "    pred_col - the variable column that you are trying to predict\n",
    "    drop_cols - Any further columns you want to drop prior to model creation/tuning\n",
    "\n",
    "    OUTPUTS\n",
    "    test_score - r2 score for the testing data\n",
    "    train_score - r2 score for the training data\n",
    "    model - optimised model \n",
    "    X_train - training data\n",
    "    X_test - testing data\n",
    "    y_train - target training variables\n",
    "    y_test - target testing variables\n",
    "    more_scores - dictionary of additional scores -> recall, precision and f1 scores\n",
    "    \n",
    "    '''\n",
    "    \n",
    "    drop_cols.append(pred_col)\n",
    "    \n",
    "    X = master_df.drop(columns=drop_cols)\n",
    "    y = master_df[pred_col]\n",
    "    \n",
    "    X_train, X_test, y_train, y_test = train_test_split(X, y, test_size=0.3, random_state=42)\n",
    "\n",
    "    scaler = StandardScaler()  \n",
    "    # Don't cheat - fit only on training data\n",
    "    scaler.fit(X_train)  \n",
    "    X_train = scaler.transform(X_train)  \n",
    "    # apply same transformation to test data\n",
    "    X_test = scaler.transform(X_test)  \n",
    "    \n",
    "    if mod == 'knn':\n",
    "        model = knn_grid_search_wrapper()  # Change this\n",
    "        \n",
    "    elif mod == 'ranfor':\n",
    "        model = ranfor_grid_search_wrapper()  # Change this\n",
    "        \n",
    "    elif mod== 'logreg':\n",
    "        model = logreg_grid_search_wrapper()  # Change this\n",
    "    else:\n",
    "        print('No model suggested...')\n",
    "        exit()\n",
    "\n",
    "    model.fit(X_train, y_train)\n",
    "    \n",
    "    print(\"[INFO] Model built, fit and optimised successfully\")\n",
    "    print(\"\\n[INFO] Optimised parameters:\")\n",
    "    try:\n",
    "        print(\"\\t\", model.best_params_)\n",
    "    except:\n",
    "        print(\"Can't print Best Parameters\")\n",
    "    \n",
    "    #Predict using your model\n",
    "    y_test_preds = model.predict(X_test)\n",
    "    y_train_preds = model.predict(X_train)\n",
    "\n",
    "    #Score using your model\n",
    "    test_score = r2_score(y_test, y_test_preds)\n",
    "    train_score = r2_score(y_train, y_train_preds)\n",
    "    \n",
    "    more_scores = conf_matrix(y_test, y_test_preds)\n",
    "    for key, val in more_scores.items():\n",
    "        print(key, \": \", round(val,4))\n",
    "\n",
    "    return test_score, train_score, model, X_train, X_test, y_train, y_test, more_scores"
   ]
  },
  {
   "cell_type": "markdown",
   "metadata": {},
   "source": [
    "## Results"
   ]
  },
  {
   "cell_type": "markdown",
   "metadata": {},
   "source": [
    "### Random Forest Classifier"
   ]
  },
  {
   "cell_type": "code",
   "execution_count": 109,
   "metadata": {},
   "outputs": [
    {
     "name": "stdout",
     "output_type": "stream",
     "text": [
      "[INFO] Model built, fit and optimised successfully\n",
      "\n",
      "[INFO] Optimised parameters:\n",
      "\t {'max_depth': 5, 'max_features': 20, 'min_samples_split': 2, 'n_estimators': 100}\n"
     ]
    },
    {
     "data": {
      "image/png": "[encoded data removed]",
      "text/plain": [
       "<Figure size 432x288 with 2 Axes>"
      ]
     },
     "metadata": {
      "needs_background": "light"
     },
     "output_type": "display_data"
    },
    {
     "name": "stdout",
     "output_type": "stream",
     "text": [
      "Recall :  0.9972\n",
      "Precision :  0.9851\n",
      "F1 :  0.9911\n"
     ]
    }
   ],
   "source": [
    "ranfor_test_score, ranfor_train_score, ranfor_model, ranfor_X_train, ranfor_X_test, ranfor_y_train, ranfor_y_test, ranfor_more_scores = workflow(drop_master_df, mod = 'ranfor', pred_col = 'offer viewed')"
   ]
  },
  {
   "cell_type": "code",
   "execution_count": 112,
   "metadata": {},
   "outputs": [
    {
     "data": {
      "text/plain": [
       "0.9263390360919556"
      ]
     },
     "execution_count": 112,
     "metadata": {},
     "output_type": "execute_result"
    }
   ],
   "source": [
    "# r2 train score\n",
    "ranfor_train_score"
   ]
  },
  {
   "cell_type": "code",
   "execution_count": 113,
   "metadata": {},
   "outputs": [
    {
     "data": {
      "text/plain": [
       "0.9289327417773868"
      ]
     },
     "execution_count": 113,
     "metadata": {},
     "output_type": "execute_result"
    }
   ],
   "source": [
    "# r2 test score\n",
    "ranfor_test_score"
   ]
  },
  {
   "cell_type": "markdown",
   "metadata": {},
   "source": [
    "### Logistic Regression "
   ]
  },
  {
   "cell_type": "code",
   "execution_count": 114,
   "metadata": {},
   "outputs": [
    {
     "name": "stdout",
     "output_type": "stream",
     "text": [
      "[INFO] Model built, fit and optimised successfully\n",
      "\n",
      "[INFO] Optimised parameters:\n",
      "\t {'C': 0.01, 'fit_intercept': True, 'solver': 'lbfgs'}\n"
     ]
    },
    {
     "data": {
      "image/png": "[encoded data removed]",
      "text/plain": [
       "<Figure size 432x288 with 2 Axes>"
      ]
     },
     "metadata": {
      "needs_background": "light"
     },
     "output_type": "display_data"
    },
    {
     "name": "stdout",
     "output_type": "stream",
     "text": [
      "Recall :  0.9825\n",
      "Precision :  0.9568\n",
      "F1 :  0.9695\n"
     ]
    }
   ],
   "source": [
    "logreg_test_score, logreg_train_score, logreg_model, logreg_X_train, logreg_X_test, logreg_y_train, logreg_y_test, logreg_more_scores = workflow(drop_master_df,  mod = 'logreg', pred_col = 'offer viewed')"
   ]
  },
  {
   "cell_type": "code",
   "execution_count": 115,
   "metadata": {},
   "outputs": [
    {
     "data": {
      "text/plain": [
       "0.7450557735646857"
      ]
     },
     "execution_count": 115,
     "metadata": {},
     "output_type": "execute_result"
    }
   ],
   "source": [
    "# r2 train score\n",
    "logreg_train_score"
   ]
  },
  {
   "cell_type": "code",
   "execution_count": 116,
   "metadata": {},
   "outputs": [
    {
     "data": {
      "text/plain": [
       "0.7541236238504992"
      ]
     },
     "execution_count": 116,
     "metadata": {},
     "output_type": "execute_result"
    }
   ],
   "source": [
    "# r2 test score\n",
    "logreg_test_score"
   ]
  },
  {
   "cell_type": "markdown",
   "metadata": {},
   "source": [
    "### K-Nearest Neighbors "
   ]
  },
  {
   "cell_type": "code",
   "execution_count": 117,
   "metadata": {},
   "outputs": [
    {
     "name": "stdout",
     "output_type": "stream",
     "text": [
      "[INFO] Model built, fit and optimised successfully\n",
      "\n",
      "[INFO] Optimised parameters:\n",
      "\t {'leaf_size': 10, 'n_neighbors': 8, 'p': 2, 'weights': 'distance'}\n"
     ]
    },
    {
     "data": {
      "image/png": "[encoded data removed]",
      "text/plain": [
       "<Figure size 432x288 with 2 Axes>"
      ]
     },
     "metadata": {
      "needs_background": "light"
     },
     "output_type": "display_data"
    },
    {
     "name": "stdout",
     "output_type": "stream",
     "text": [
      "Recall :  0.9824\n",
      "Precision :  0.9681\n",
      "F1 :  0.9752\n"
     ]
    }
   ],
   "source": [
    "knn_test_score, knn_train_score, knn_model, knn_X_train, knn_X_test, knn_y_train, knn_y_test, knn_more_scores = workflow(drop_master_df,  mod = 'knn', pred_col = 'offer viewed')"
   ]
  },
  {
   "cell_type": "code",
   "execution_count": 118,
   "metadata": {},
   "outputs": [
    {
     "data": {
      "text/plain": [
       "1.0"
      ]
     },
     "execution_count": 118,
     "metadata": {},
     "output_type": "execute_result"
    }
   ],
   "source": [
    "# r2 train score\n",
    "knn_train_score"
   ]
  },
  {
   "cell_type": "code",
   "execution_count": 119,
   "metadata": {},
   "outputs": [
    {
     "data": {
      "text/plain": [
       "0.801501795998908"
      ]
     },
     "execution_count": 119,
     "metadata": {},
     "output_type": "execute_result"
    }
   ],
   "source": [
    "# r2 test score\n",
    "knn_test_score"
   ]
  },
  {
   "cell_type": "markdown",
   "metadata": {},
   "source": [
    "### Speed Test"
   ]
  },
  {
   "cell_type": "code",
   "execution_count": 120,
   "metadata": {},
   "outputs": [
    {
     "name": "stdout",
     "output_type": "stream",
     "text": [
      "RandomForestClassifier:  0.05469024699999864\n",
      "LogisticRegression:  0.0008203950000097393\n",
      "KNearestNeighbour:  2.3190337800000633\n"
     ]
    }
   ],
   "source": [
    "import timeit\n",
    "\n",
    "# Number of runs to complete\n",
    "runs = 100\n",
    "# Reduced runs to speed up analysis\n",
    "runs_2 = 10\n",
    "print('RandomForestClassifier: ',timeit.timeit(lambda: ranfor_model.predict(ranfor_X_test), number=runs)/runs)\n",
    "print('LogisticRegression: ',timeit.timeit(lambda: logreg_model.predict(logreg_X_test), number=runs)/runs)\n",
    "print('KNearestNeighbour: ',timeit.timeit(lambda: knn_model.predict(knn_X_test), number=runs_2)/runs_2)"
   ]
  },
  {
   "cell_type": "markdown",
   "metadata": {},
   "source": [
    "## Conclusion"
   ]
  },
  {
   "cell_type": "markdown",
   "metadata": {},
   "source": [
    "If I was to suggest a classifier from these results I would choose the Random Forest Classifier if speed of prediction is not essential. I believe this is true for this project as there is no 'urgency' to hand out offers at a fast rate.\n",
    "However, this project does have room for improvement and additional analyses could be added on to the back of this to increase revenue further. \n",
    "\n",
    "This could be done by bolting on a prediction of how this offer will affect the users transactions. Will the offer provide an incentive to the user to spend more than they originally would have? Or will it make the user just take advantage of a singular discounted product. \n",
    "\n",
    "To be able to do this, I envisage I would need to group the data so that we had the total value of their transactions before and after the offer, and the after column would provide us with a variable to predict. The model used here would be a regression model.\n",
    "\n",
    "With that this improvement in mind, each step along the workflow may then be time bound. In this improved scenario, I would choose the Logistic Regression model as this provides a good balance of a high recall score and fast predicting performance.\n",
    "\n",
    "## Reflection\n",
    "\n",
    "In this post, I showed three different machine learning models were used to predict whether Starbucks users would view offers. \n",
    "The models used were Random Forest Classifier, Logistic Regression, and k-Nearest Neighbors. \n",
    "\n",
    "The dataset used for the analysis included information on customer demographics, transaction history, and offer details. \n",
    "The results of the analysis showed that the Random Forest Classifier performed the best, with a recall score of 99.7%, followed by k-Nearest Neighbors with a recall score of 98.3 % and Logistic Regression with a recall score of 98.2%. It was concluded that the Random Forest Classifier is the most suitable model for this particular task due to its ability to handle a large number of input variables and its higher accuracy rate. \n",
    "\n",
    "However, an improvement could be made by adding further steps to this project which could predict the affect on additional revenue the selected offer may have on the user. If we continued with this, Logistic Regression would provide a faster initial prediction whilst maintaining a comparable recall score."
   ]
  },
  {
   "cell_type": "code",
   "execution_count": null,
   "metadata": {},
   "outputs": [],
   "source": []
  }
 ],
 "metadata": {
  "kernelspec": {
   "display_name": "Python 3",
   "language": "python",
   "name": "python3"
  },
  "language_info": {
   "codemirror_mode": {
    "name": "ipython",
    "version": 3
   },
   "file_extension": ".py",
   "mimetype": "text/x-python",
   "name": "python",
   "nbconvert_exporter": "python",
   "pygments_lexer": "ipython3",
   "version": "3.8.5"
  }
 },
 "nbformat": 4,
 "nbformat_minor": 2
}
